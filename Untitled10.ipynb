{
 "cells": [
  {
   "cell_type": "code",
   "execution_count": 2,
   "id": "1e7e300d",
   "metadata": {},
   "outputs": [
    {
     "name": "stdout",
     "output_type": "stream",
     "text": [
      "Aplikasi yang hanya muncul di satu kategori:\n",
      "\n",
      "Aplikasi yang muncul di dua kategori:\n",
      "- Photos\n",
      "- IPOT\n",
      "- RTI Saham\n",
      "- Mirae\n",
      "- Poems\n",
      "- Calculator\n",
      "- Camera\n",
      "- Notes\n",
      "- Weather\n",
      "\n",
      "Kategori tidak valid:\n"
     ]
    }
   ],
   "source": [
    "def analisis_kategori(nama_aplikasi, kategori_aplikasi, input_kategori):\n",
    " \n",
    "\n",
    "  hasil = {\n",
    "      \"aplikasi_satu_kategori\": [],\n",
    "      \"aplikasi_n_kategori\": [],\n",
    "      \"kategori_tidak_valid\": [],\n",
    "  }\n",
    "\n",
    "  aplikasi_satu_kategori = {}\n",
    "  for kategori, aplikasi_list in kategori_aplikasi.items():\n",
    "    for aplikasi in aplikasi_list:\n",
    "      if aplikasi not in aplikasi_satu_kategori:\n",
    "        aplikasi_satu_kategori[aplikasi] = kategori\n",
    "\n",
    "  aplikasi_n_kategori = set()\n",
    "  for kategori in input_kategori:\n",
    "    if kategori in kategori_aplikasi:\n",
    "      for aplikasi in kategori_aplikasi[kategori]:\n",
    "        aplikasi_n_kategori.add(aplikasi)\n",
    "    else:\n",
    "      hasil[\"kategori_tidak_valid\"].append(kategori)\n",
    "\n",
    "  hasil[\"aplikasi_satu_kategori\"] = [aplikasi for aplikasi, kategori in aplikasi_satu_kategori.items() if len(aplikasi_satu_kategori[aplikasi]) == 1]\n",
    "  hasil[\"aplikasi_n_kategori\"] = list(aplikasi_n_kategori)\n",
    "\n",
    "  return hasil\n",
    "\n",
    "\n",
    "nama_aplikasi = [\"Calculator\", \"Camera\", \"Notes\"]\n",
    "kategori_aplikasi = {\n",
    "    \"Keuangan\": [\"RTI Saham\", \"Mirae\", \"IPOT\", \"Poems\", \"Calculator\"],\n",
    "    \"Utilitas\": [\"Photos\", \"Weather\", \"Calculator\", \"Camera\", \"Notes\"],\n",
    "}\n",
    "input_kategori = [\"Keuangan\", \"Utilitas\"]\n",
    "\n",
    "hasil_analisis = analisis_kategori(nama_aplikasi, kategori_aplikasi, input_kategori)\n",
    "\n",
    "print(\"Aplikasi yang hanya muncul di satu kategori:\")\n",
    "for aplikasi in hasil_analisis[\"aplikasi_satu_kategori\"]:\n",
    "  print(f\"- {aplikasi}\")\n",
    "\n",
    "print(\"\\nAplikasi yang muncul di dua kategori:\")\n",
    "for aplikasi in hasil_analisis[\"aplikasi_n_kategori\"]:\n",
    "  print(f\"- {aplikasi}\")\n",
    "\n",
    "print(\"\\nKategori tidak valid:\")\n",
    "for kategori in hasil_analisis[\"kategori_tidak_valid\"]:\n",
    "  print(f\"- {kategori}\")"
   ]
  },
  {
   "cell_type": "code",
   "execution_count": 3,
   "id": "17d077f0",
   "metadata": {},
   "outputs": [
    {
     "name": "stdout",
     "output_type": "stream",
     "text": [
      "{1, 2, 3, 4, 5}\n",
      "[6, 7, 8, 9, 10]\n",
      "{11, 12, 13, 14, 15}\n",
      "(6, 7, 8, 9, 10)\n"
     ]
    }
   ],
   "source": [
    "x=[1,2,3,4,5] # list\n",
    "y={6,7,8,9,10} # set\n",
    "z=(11,12,13,14,15) # tuple\n",
    "\n",
    "print(set(x))\n",
    "print(list(y))\n",
    "print(set(z))\n",
    "print(tuple(y))"
   ]
  },
  {
   "cell_type": "code",
   "execution_count": null,
   "id": "069db22a",
   "metadata": {},
   "outputs": [],
   "source": [
    "file1 = open(\"file1.txt\")\n",
    "file2 = open(\"file2.txt\")\n",
    "\n",
    "file_one = \"\"\n",
    "file_two = \"\"\n",
    "\n",
    "for line1 in file1:\n",
    "    line1 = \"\".join([i for i in line1 if i.isalpha() or i == \" \" or i == \"\\n\" or i == \"-\"])\n",
    "    file_one += line1\n",
    "for line2 in file2:\n",
    "    line2 = \"\".join([j for j in line2 if j.isalpha() or j == \" \" or j == \"\\n\" or j == \"-\"])\n",
    "    file_two += line2\n",
    "\n",
    "base1 = set()\n",
    "base2 = set()\n",
    "\n",
    "for i in file_one.split():\n",
    "    base1.add(i)\n",
    "for j in file_two.split():\n",
    "    base2.add(j)\n",
    "\n",
    "print(base1&base2)\n"
   ]
  },
  {
   "cell_type": "code",
   "execution_count": null,
   "id": "62392f1c",
   "metadata": {},
   "outputs": [],
   "source": []
  }
 ],
 "metadata": {
  "kernelspec": {
   "display_name": "Python 3 (ipykernel)",
   "language": "python",
   "name": "python3"
  },
  "language_info": {
   "codemirror_mode": {
    "name": "ipython",
    "version": 3
   },
   "file_extension": ".py",
   "mimetype": "text/x-python",
   "name": "python",
   "nbconvert_exporter": "python",
   "pygments_lexer": "ipython3",
   "version": "3.11.5"
  }
 },
 "nbformat": 4,
 "nbformat_minor": 5
}
